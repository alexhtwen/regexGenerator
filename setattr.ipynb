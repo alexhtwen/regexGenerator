{
 "cells": [
  {
   "cell_type": "code",
   "execution_count": 1,
   "metadata": {},
   "outputs": [
    {
     "data": {
      "text/plain": [
       "35"
      ]
     },
     "execution_count": 1,
     "metadata": {},
     "output_type": "execute_result"
    }
   ],
   "source": [
    "# setattr(remittances, k, v)\n",
    "class Person():\n",
    "    def __init__(self):\n",
    "        self.name_ = 'Alex'\n",
    "        self.age_ = 39\n",
    "\n",
    "\n",
    "person = Person()\n",
    "person.name_\n",
    "person.age_\n",
    "\n",
    "setattr(person, 'name_', 'Becca')\n",
    "setattr(person, 'age_', 35)\n",
    "person.name_\n",
    "person.age_"
   ]
  }
 ],
 "metadata": {
  "kernelspec": {
   "display_name": "Python 3",
   "language": "python",
   "name": "python3"
  },
  "language_info": {
   "codemirror_mode": {
    "name": "ipython",
    "version": 3
   },
   "file_extension": ".py",
   "mimetype": "text/x-python",
   "name": "python",
   "nbconvert_exporter": "python",
   "pygments_lexer": "ipython3",
   "version": "3.8.6"
  }
 },
 "nbformat": 4,
 "nbformat_minor": 4
}
