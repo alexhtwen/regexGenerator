{
 "cells": [
  {
   "cell_type": "markdown",
   "id": "cfc01480-c34a-482a-a36b-2fed7da00da2",
   "metadata": {},
   "source": [
    "# Python's Comprehensions"
   ]
  },
  {
   "cell_type": "markdown",
   "id": "5a1e562a-05c6-40b4-8acc-f0e9d2b4c4f5",
   "metadata": {},
   "source": [
    "## List Comprehension"
   ]
  }
 ],
 "metadata": {
  "kernelspec": {
   "display_name": "Python 3 (ipykernel)",
   "language": "python",
   "name": "python3"
  },
  "language_info": {
   "codemirror_mode": {
    "name": "ipython",
    "version": 3
   },
   "file_extension": ".py",
   "mimetype": "text/x-python",
   "name": "python",
   "nbconvert_exporter": "python",
   "pygments_lexer": "ipython3",
   "version": "3.10.1"
  }
 },
 "nbformat": 4,
 "nbformat_minor": 5
}
