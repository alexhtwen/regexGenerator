{
 "cells": [
  {
   "cell_type": "code",
   "execution_count": 4,
   "metadata": {
    "tags": []
   },
   "outputs": [
    {
     "name": "stdout",
     "output_type": "stream",
     "text": [
      "上課時進食得到的credit: -5\n"
     ]
    }
   ],
   "source": [
    "class Course():\n",
    "    def __init__(self, title: str, instructor: str,\n",
    "                 students: list = [], classroom: str = '以斯帖'):\n",
    "        self.title = title\n",
    "        self.instructor = instructor\n",
    "        self.students = students\n",
    "        self.classroom = classroom\n",
    "        self.credit = None\n",
    "\n",
    "    def get_credit(self, stuff: str) -> int:\n",
    "        if stuff == '參與討論':\n",
    "            self.credit = 2\n",
    "        elif stuff == '積極發問':\n",
    "            self.credit = 3\n",
    "        elif stuff == '幫助同學':\n",
    "            self.credit = 5\n",
    "        elif stuff == '指甲很髒':\n",
    "            self.credit = -1\n",
    "        elif stuff == '上課時進食':\n",
    "            self.credit = -5\n",
    "        elif stuff == '散播謠言':\n",
    "            self.credit = -100\n",
    "        else:\n",
    "            self.credit = 0\n",
    "        return self.credit\n",
    "\n",
    "\n",
    "project_course = Course(title='周六專案製作班', instructor='Amos',\n",
    "                        students=['Spring', 'Oliver', 'Andy', '明志', 'Alex', '小偵', '夢梅', '振毅', 'MR Wu', '振泰'])\n",
    "print(f'上課時進食得到的credit: {project_course.get_credit(\"上課時進食\")}')"
   ]
  }
 ],
 "metadata": {
  "kernelspec": {
   "display_name": "Python 3",
   "language": "python",
   "name": "python3"
  },
  "language_info": {
   "codemirror_mode": {
    "name": "ipython",
    "version": 3
   },
   "file_extension": ".py",
   "mimetype": "text/x-python",
   "name": "python",
   "nbconvert_exporter": "python",
   "pygments_lexer": "ipython3",
   "version": "3.8.6"
  }
 },
 "nbformat": 4,
 "nbformat_minor": 4
}
