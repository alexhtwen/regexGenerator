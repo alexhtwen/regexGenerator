{
 "cells": [
  {
   "cell_type": "code",
   "execution_count": null,
   "metadata": {},
   "outputs": [],
   "source": [
    "patterns = [\n",
    "    r'(\\d+?)(\\d+?)?',  # 1: ('2', '4')\n",
    "    r'(\\d+)(\\d+?)?',   # 2: \n",
    "    r'(\\d+?)(\\d+)?',   # 3: ('2', )\n",
    "    r'(\\d+)(\\d+)?',    # 4: \n",
    "    r'(\\d+?)(\\d+?)',   # 5: ('2', '4')\n",
    "    r'(\\d+)(\\d+?)',    # 6: ('24', '6')\n",
    "    r'(\\d+?)(\\d+)',    # 7: ('2', '46')\n",
    "    r'(\\d+)(\\d+)',     # 8: ('24', '6')\n",
    "]\n",
    "for id, pattern in enumerate(patterns, start=1):\n",
    "    print(f\"{id}: {re.match(pattern, '246').groups()}\")\n"
   ]
  }
 ],
 "metadata": {
  "kernelspec": {
   "display_name": "Python 3 (ipykernel)",
   "language": "python",
   "name": "python3"
  },
  "language_info": {
   "codemirror_mode": {
    "name": "ipython",
    "version": 3
   },
   "file_extension": ".py",
   "mimetype": "text/x-python",
   "name": "python",
   "nbconvert_exporter": "python",
   "pygments_lexer": "ipython3",
   "version": "3.8.10"
  }
 },
 "nbformat": 4,
 "nbformat_minor": 4
}
