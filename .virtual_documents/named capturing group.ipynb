# coding=utf8
# the above tag defines encoding for this document and is for Python 2.x compatibility

import re

pattern = r"((?:Alex )(?=(Van|Wen)).*: )(?P<score>\d{3})"
repl = r'\g<1>\g<2>0'

test_str = ("alex van: 168\n"
	"Alex Liu: 158\n"
	"Alex Ma: 178\n"
	"Alex Wen: 172\n")

results = re.findall(pattern=pattern, string=test_str, flags=re.MULTILINE | re.IGNORECASE)
print(results)
new_str = re.sub(repl= repl, pattern=pattern, string=test_str, flags=re.MULTILINE | re.IGNORECASE)
print(new_str)



