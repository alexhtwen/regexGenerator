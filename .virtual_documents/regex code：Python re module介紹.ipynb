# Python的regex模組，在standard library中，無須另行安裝。
import re
from datetime import datetime
now = datetime.now().strftime("%Y-%m-%d %H:%M:%S")
print(
    f"'re' module imported.\n"
    f'{now}'
)


SUB_STRING = 0
SUB_COUNT = 1

LEN_SINGLE = 20
LEN_DOUBLE = 30
SINGLE_LINE = '-' * LEN_SINGLE   # '-----'
DOUBLE_LINE = '=' * LEN_DOUBLE   # '====='
LINE_RETURN = '\n'
print('Constants defined.')


# 找出「正則」或「正規」字串，且其後面必須緊跟「表達」或「表示」，再緊跟「式」或「法」。
# 而且只取「正則」「正規」而不取後面的「表達式」、「表示法」…等。
pattern = r'(正則|正規)(?=(?:表達|表示)(?:式|法))'
# 反之要抓出「正則」或「正規」字串，但其後面不能緊跟「表達式」、「表達法」、「表示式」、「表示法」。
# pattern = r'(正則|正規)(?!(?:表達|表示)(式|法))'

test_str = '''Regular Expression(regex, 中譯正則表達式)是用來描述字串規則的字串，也就是用字串組成的「描述規則」來比對待匹配的字串，並返回匹配的結果。現代的程式語言基本上都有支援正則表達式，語法大同小異。
…
是故禮者君之大柄也。所以別嫌明微。儐鬼神。考制度。別仁義。所以治政安君也。故政不正則君位危。君位危則大臣倍。小臣竊。刑肅而俗敝。則法無常。法無常而禮無列。無禮列則士不事也。刑肅而俗敝。則民弗歸也。是謂疵國。
…
資料庫正規化，又稱正規化、標準化，是資料庫設計的一系列原理和技術，以減少資料庫中資料冗餘，增進資料的一致性。關係模型的發明者埃德加·科德最早提出這一概念，並於1970年代初定義了第一規格化、第二正規化和第三正規化的概念，還與Raymond F. Boyce於1974年共同定義了第三正規化的改進正規式——BC正規形式。
…
子路曰：「衛君待子而為政，子將奚先？」子曰：「必也正名乎！」子路曰：「有是哉，子之迂也！奚其正？」子曰：「野哉由也！君子於其所不知，蓋闕如也。名不正則言不順；言不順則事不成；事不成，則禮樂不興；禮樂不興，則刑罰不中；刑罰不中，則民無所措手足。故君子名之必可言也，言之必可行也。君子於其言，無所苟而已矣。」
…
regex的中譯，除正則表達式外，還有正則表示式、正則表示法、正規表達式、正規表達法、正則運算法、常規表示式…等等。'''

reg_expr = test_str
print(
    f'pattern: {pattern}\n'
    f'{SINGLE_LINE}\n'
    f'test_str:\n'
    f'{reg_expr}'
)


# 找出各種寵物的「名字」和死亡時的「歲數」。
pattern = r'(?:(?:name.+?(?:was|is)|(?:was|is)\s+called)\s+)(\w+\b)\.*?\s*.*?(?:died|dead).*?(\d*)\s* year(?=s)?'

test_str = r'''My cat's name is 大貓.  He joined our family at just 2 years old, and died at 14 years old.  
My dog's name was Warmy.  She came to our house only 14 days after his was born.  She died at 13 years old.
My tortoise was called Brett.  It had lived at our house for more than 50 years and was dead on 56 years and 157 days old.
The name of the hare is Haha. He died at 10 years old.'''

pets = test_str
print(
    f'pattern: {pattern}\n'
    f'{SINGLE_LINE}\n'
    f'test_str:\n'
    f'{pets}'
)


# re.compile()
pattern = '^([a-z][1289]\d{8})$'   # 中華民國國民身分證統一編號的pattern(不驗證最末的驗證碼)。
test_str = 'F204136957'
regex_obj = re.compile(pattern=pattern, flags=re.IGNORECASE)   # 將pattern字串compile後得pattern的'object'。
match = regex_obj.search(string=test_str)   # <object>.<method>()是很多物件導向(OO)程式語言的標準語法。

print(
    f'method: re.compile()\n'
    f'{SINGLE_LINE}\n'
    f'pattern        : {pattern}\n'
    f'string         : {test_str}\n'
    f'type(regex_obj): {type(regex_obj)}\n'
    f'match          : {match}\n'
    f'type(match)    : {type(match)}\n'
)

print('results:')
if match is not None: 
    if len(match.groups()) > 0:
        for group_id, group_value in enumerate(match.groups(), start=1): 
            print(f'  group{group_id:2}: {group_value}')    
    else:
        print('  no group.')
else:
    print('  no match.')


# re.search()
test_str = pets
# 以下是各種不同數量的「匹配字串」和group(s)的測試：
patterns = [
    # 1. 比對成功：第1個match的前面3個字(英文或中文的「字」，非英文「字母」。)。
    #    此pattern的第1個match位在test_str的第3行，也就是tortoise那行。
    r"^\W*(\b[\w']+\b)\W+(tortoise)\W+(\b[\w']+\b)", 
    'rdguizi59gq',    # 2. 比對失敗：找不到任何匹配的字串。
    'years',          # 3. 比對成功：沒有group。
    '(years)',        # 4. 比對成功：只有1個group。
    '(y)(ea)r(s)',    # 5. 比對成功：2個以上groups。
]

descriptions = (
    '比對成功：第1個match的前面3個字(英文或中文的「字」，非英文「字母」。)。', 
    '比對失敗：找不到任何匹配的字串。', 
    '比對成功：沒有group。', 
    '比對成功：只有1個group。', 
    '比對成功：2個以上groups。',
)

print(
    f'method: re.search()\n'
    f'{SINGLE_LINE}'
)
for index, pattern in enumerate(patterns):
    num_groups = re.compile(pattern).groups
    # 比對成功傳回第1個match，比對失敗沒有match則傳回None。
    # flags=re.MULTILINE | re.IGNORECASE中的'|'表示or。
    match = re.search(string=test_str, pattern=pattern, flags=re.MULTILINE|re.IGNORECASE)
    # 如用下面的非MULTILINE模式來比對tortoise那個pattern，會比對失敗找不到匹配字串。
    # match = re.search(string=test_str, pattern=pattern, flags=re.IGNORECASE)
    print(
        f'pattern    : {pattern}\n'
        f'description: {descriptions[index]}\n'
        f'string     : {test_str}\n'
        f'match      : {match}\n'
        f'type(match): {type(match)}\n'
        f'match text : {None if match is None else match.group(0)}\n'
        f'num_groups : {num_groups}\n'
    )

    print('results:')
    if match is not None:   # 如不加這個判斷，比對不到無任何一個match時，進入下面的迴圈會出錯。
        # match.groups()傳回一個tuple，tuple的元素是該match所有的group(s)，
        # 也就是pattern設定的group(s)。
        # match內無group(即pattern沒有設group)，match.groups()會傳回空tuple。
        if len(match.groups()) > 0:
            for group_id, group_value in enumerate(match.groups(), start=1):  # enumerate()可以設定start的值。
                print(f'  group{group_id:2}: {group_value}')
        else:
            print('  no group.')
    else:
        print('  no match.')
    print(f'{SINGLE_LINE}')


# re.match()
test_str = pets
# 以下是各種不同數量的「匹配字串」和group(s)的測試：
patterns = [
    # 1. 比對成功：整個字串(不是每一行)的最前面的3個字。注意是英文或中文的「字」，不是英文的「字母」。
    r"\W*(\b[\w']+\b)\W+(\b[\w']+\b)\W+(\b[\w']+\b)", 
    # 2. 比對失敗：test_str最前面的第2個字並非'tortoise'。
    r"\W*(\b[\w']+\b)\W+(tortoise)\W+(\b[\w']+\b)",  
    # 3. 比對成功：test_str最前面第2個字就是"cat's"。再抓出其中的cat構成1個group。
    r"\W*(?:\b[\w']+\b)\W+(cat)'s\W+(?:\b[\w']+\b)", 
    r'my\s+(?:dog|hare|cat|tortoise)',   # 4. 比對成功：沒有group。
    r'(my)\s+(dog|hare|cat|tortoise)',   # 5. 比對成功：2個groups。
]

descriptions = (
    '比對成功：整個字串(不是每一行)的最前面的3個字。注意是英文或中文的「字」，不是英文的「字母」。', 
    "比對失敗：test_str最前面的第2個字並非'tortoise'。", 
    '比對成功：test_str最前面第2個字就是"cat\'s"。再抓出其中的cat構成1個group。', 
    '比對成功：沒有group。', 
    '比對成功：2個groups。',
)

print(
    f'method: re.match()\n'
    f'{SINGLE_LINE}'
)
for index, pattern in enumerate(patterns):
    num_groups = re.compile(pattern).groups
    match = re.match(pattern=pattern, string=test_str) # , flags=re.MULTILINE|re.IGNORECASE)
    print(
        f'pattern    : {pattern}\n'
        f'description: {descriptions[index]}\n'
        f'string     : {test_str}\n'
        f'match      : {match}\n'
        f'type(match): {type(match)}\n'
        f'match text : {None if match is None else match.group(0)}\n'
        f'num_groups : {num_groups}\n'
    )

    print('results:')
    if match is not None:   # 如不加這個判斷，比對不到無任何一個match時，進入下面的迴圈會出錯。
        # match.groups()傳回一個tuple，tuple的元素是該match所有的group(s)，
        # 也就是pattern設定的group(s)。
        # match內無group(即pattern沒有設group)，match.groups()會傳回空tuple。
        if len(match.groups()) > 0:
            for group_id, group_value in enumerate(match.groups(), start=1):  # enumerate()可以設定start的值。
                print(f'  group{group_id:2}: {group_value}')    
        else:
            print('  no group.')
    else:
        print('  no match.')
    print(f'{SINGLE_LINE}')


# re.fullmatch()
pattern = r'([A-Z][1289]\d{8})'   # 中華民國國民身分證統一編號的pattern。
test_strs = [
    'F152136808',              # 1. 驗證成功。
    'A236521470 N279607279',   # 2. 驗證失敗(pattern只驗證一個編號)。
    'S15466634',               # 3. 驗證失敗(string少一個數字)。
    'J2000727944',             # 4. 驗證失敗(string多一個數字)。
]

descriptions = (
    '驗證成功：test_str的內容是一個符合pattern的中華民國國民身分證統一編號。', 
    "驗證失敗：pattern只驗證一個編號，而test_str則有2個。", 
    '驗證失敗：test_str少一個字元。', 
    '驗證失敗：string多一個字元。',
)

print(
    f'method: re.fullmatch()\n'
    f'{SINGLE_LINE}'
)
num_groups = re.compile(pattern).groups
for index, test_str in enumerate(test_strs):
    match = re.fullmatch(pattern=pattern, string=test_str, flags=re.MULTILINE|re.IGNORECASE)
    print(
        f'pattern       : {pattern}\n'
        f'description   : {descriptions[index]}\n'
        f'string        : {test_str}\n'
        f'match         : {match}\n'
        f'type(match)   : {type(match)}\n'
        f'match.group(0): {None if match is None else match.group(0)}\n'
        f'num_groups    : {num_groups}\n'
    )

    print('results:')
    if match is not None:   # 如不加這個判斷，比對不到無任何一個match時，進入下面的迴圈會出錯。
        # match.groups()傳回一個tuple，tuple的元素是該match所有的group(s)，
        # 也就是pattern設定的group(s)。
        # match內無group(即pattern沒有設group)，match.groups()會傳回空tuple。
        if len(match.groups()) > 0:
            for group_id, group_value in enumerate(match.groups(), start=1):  # enumerate()可以設定start的值。
                print(f'  group{group_id:2}: {group_value}')    
        else:
            print('  no group.')
    else:
        print('  no match.')
    print(f'{SINGLE_LINE}')


# re.findall()
test_str = pets
# 以下是各種不同數量的「匹配字串」和group(s)的測試：
patterns = [
    # 1. 比對成功：n個匹配字串，每個匹配有2個groups。
    r'(?:(?:name.+?(?:was|is)|(?:was|is)\s+called)\s+)(\w+\b)\.*?\s*.*?(?:died|dead).*?(\d*)\s* year(?=s)?',
    'rdguizi59gq',   # 2. 比對失敗：找不到任何匹配的字串。
    'years',         # 3. 比對成功：有n個匹配，每個匹配都沒有group。
    '(years)',       # 4. 比對成功：有n個匹配，每個匹配只有1個group。
    '(y)(ea)r(s)',   # 5. 比對成功：有n個匹配，每個匹配有2個以上groups。
]
# 請注意：這裡的「匹配」和其後的finditer()函數中的match意義並不完全相同。
# 本函數對「沒有group」及「只有1個group」兩種情況，傳回值結構相同，又無其他足以區辨的資訊。
# 如果程式有區分兩者的需求，可利用re.compile()偵測groups數。

print(
    f'method: re.findall()\n'
    f'{SINGLE_LINE}'
)
for pattern in patterns:
    num_groups = re.compile(pattern).groups
    # 由於本函數和下面finditer()兩者傳回值的型別和內容都有差異，為了區別，接傳回值的變數，
    # 故意使用不同名稱。本函數用的是results，下面的finditer()則用matches。
    results = re.findall(pattern=pattern, string=test_str, flags=re.MULTILINE | re.IGNORECASE)
    descriptions = {
        'match': f'比對成功：有{len(results)}個匹配，即results有{len(results)}個元素，每個匹配(元素)有{num_groups}個group{"s" if num_groups > 1 else ""}。', 
        'no match': '比對失敗：找不到任何匹配。'
    }
    print(
        f'pattern      : {pattern}\n'
        f'description  : {descriptions["match" if results else "no match"]}\n'
        f'string       : {test_str}\n'
        f'results      : {results}\n'
        f'type(results): {type(results)}\n'
        f'len(results) : {len(results)}\n'
        f'num_groups   : {num_groups}\n'
    )

    print('results:')
    if results == []:
        print('  no match.')
    else:
        for result_id, groups in enumerate(results, start=1):   # enumerate()可以設定start的值。
            print(f'result{result_id:2}:  {groups}')
            if isinstance(groups, tuple): 
                for group_id, group in enumerate(groups, start=1):
                    print(f'  group{group_id:2}: {group}')
            elif num_groups == 1:
                print(f'  group 1: {groups}')
    print(f'{SINGLE_LINE}')


# re.finditer()
test_str = pets
# 以下是各種不同數量的「匹配字串」和group(s)的測試：
patterns = [
    # 1. 比對成功：n個匹配字串，每個匹配有2個groups。
    r'(?:(?:name.+?(?:was|is)|(?:was|is)\s+called)\s+)(\w+\b)\.*?\s*.*?(?:died|dead).*?(\d*)\s* year(?=s)?',
    'rdguizi59gq',   # 2. 比對失敗：找不到任何匹配的字串。
    'years',         # 3. 比對成功：有n個匹配字串，每個匹配都沒有group。
    '(years)',       # 4. 比對成功：有n個匹配，每個匹配只有1個group。
    '(y)(ea)r(s)',   # 5. 比對成功：有n個匹配，每個匹配有2個以上groups。
]

print(
    'method: re.finditer()\n'
    f'{SINGLE_LINE}'
)
for index, pattern in enumerate(patterns):
    num_groups = re.compile(pattern).groups
    matches = re.finditer(pattern=pattern, flags=re.MULTILINE|re.IGNORECASE, string=test_str)
    descriptions = [
        f'比對成功：每個匹配有{num_groups}個group{"s" if num_groups > 1 else ""}。', 
        r'比對失敗：找不到任何匹配。',
        f'比對成功：每個匹配有{num_groups}個group{"s" if num_groups > 1 else ""}。', 
        f'比對成功：每個匹配有{num_groups}個group{"s" if num_groups > 1 else ""}。', 
        f'比對成功：每個匹配有{num_groups}個group{"s" if num_groups > 1 else ""}。', 
    ]

    print(
        f'pattern      : {pattern}\n'
        f'description  : {descriptions[index]}\n'
        f'string       : {test_str}\n'
        f'matches      : {matches}\n'
        f'type(matches): {type(matches)}\n'
        f'num of groups: {num_groups}\n'
    )

    print('results:')
    is_matched = False
    for m_id, match in enumerate(matches, start=1):   # enumerate()可以設定start的值。
        is_matched = True
        m_start_end = f'{match.start()}-{match.end()}'   # 抓出該match的開始和結束欄位。
        print(f'match{m_id:2}: {m_start_end:12}{match.group()}')   # match.group()等於match.group(0)
        # 每一個match的group(0)是「整個匹配字串」。請注意：findall()並不提供這個group(0)。
        # 其實我們關心的多半是自己定義的groups而非group(0)，所以下列迴圈從1而非0起迭代。
        for g_id in range(1, len(match.groups()) + 1): 
            g_start_end = f'{match.start(g_id)}-{match.end(g_id)}'
            print(f'  group{g_id:2}: {g_start_end:10}{match.group(g_id)}')
        print()

    if not is_matched:
        print('  no match.')
    print(f'{SINGLE_LINE}')


# re.sub()
pattern = r'\bpizza\b'  # 前後都加'\b'意思是要比對完整的英文字，像文中的'pizzaiolo'就比對不到。
old_string = r'''Pizza is an Italian dish consisting of a usually round, 
flattened base of leavened wheat-based dough topped with tomatoes, cheese, 
and often various other ingredients (such as anchovies, mushrooms, onions, olives, 
pineapple, meat, etc.), which is then baked at a high temperature, traditionally 
in a wood-fired oven.  A small pizza is sometimes called a pizzetta. 
A person who makes pizza is known as a pizzaiolo.
My favorite food is Pizza. What is yours?'''
replacement = 'Macaroni'

new_string = re.sub(pattern=pattern, string=old_string, repl=replacement, flags=re.MULTILINE|re.IGNORECASE)

print(
    'method: re.sub()\n'
    f'{SINGLE_LINE}\n'
    f'pattern    : {pattern}\n'
    r"description: 沒給count參數表取代全部。前後的'\b'是確保'pizza'為單字，排除'pizzaiolo'等情形。" '\n\n'
    f'old_string:\n{old_string}\n'
    f'{SINGLE_LINE}\n'
    f'new_string:\n{new_string}'
)


# re.sub()
pattern = r'\bpizza\b'  # 前後都加'\b'意思是要比對完整的英文字，像文中的'pizzaiolo'就比對不到。
old_string = r'''Pizza is an Italian dish consisting of a usually round, 
flattened base of leavened wheat-based dough topped with tomatoes, cheese, 
and often various other ingredients (such as anchovies, mushrooms, onions, olives, 
pineapple, meat, etc.), which is then baked at a high temperature, traditionally 
in a wood-fired oven.  A small pizza is sometimes called a pizzetta. 
A person who makes pizza is known as a pizzaiolo.
My favorite food is Pizza. What is yours?'''
replacement = r'Macaroni'
count = 2
new_string = re.sub(count=count, pattern=pattern, repl=replacement, string=old_string, flags=re.MULTILINE|re.IGNORECASE)

print(
    f'method: re.sub()\n'
    f'{SINGLE_LINE}\n'
    f'pattern    : {pattern}\n'
    f'description: 以參數count={count}設定最多取代{count}個(從頭算起)。\n'
    f'count      : {count}\n\n'
    f'old_string:\n{old_string}\n'
    f'{SINGLE_LINE}\n'
    f'new_string:\n{new_string}'
)


# re.sub()
pattern = r'Pizza(?<=favorite food is Pizza)'
old_string = r'''Pizza is an Italian dish consisting of a usually round, 
flattened base of leavened wheat-based dough topped with tomatoes, cheese, 
and often various other ingredients (such as anchovies, mushrooms, onions, olives, 
pineapple, meat, etc.), which is then baked at a high temperature, traditionally 
in a wood-fired oven.  A small pizza is sometimes called a pizzetta. 
A person who makes pizza is known as a pizzaiolo.
My Favorite food is pizza. What is yours?'''
replacement = r'Macaroni'
count = 1
new_string = re.sub(pattern=pattern, string=old_string, repl=replacement, count=count, flags=re.MULTILINE|re.IGNORECASE)

print(
    'method: re.sub()\n'
    f'{SINGLE_LINE}\n'
    f'pattern    : {pattern}\n'
    f'description: 運用環視技術(look-around)中的反向肯定(positive lookbehind)來幹取代活。\n'
    f'count      : {count}\n\n'
    f'old_string:\n{old_string}\n'
    f'{SINGLE_LINE}\n'
    f'new_string:\n{new_string}'
)


# re.sub()
patterns = ['(?P<pet>cat)', '()(?P<pet>dog)', 'mouse']
old_string = r'I like cat and dog, but hate mouse.'   # 文法錯誤，要用複數才對。
new_string = old_string
replacement = [r'\g<pet>s', r'\g<pet>s', 'mice']
count = 1

descriptions = (
    "pattern的group有命名<pet>，sub()則將<pet>的內容'cat'加上s變成複數'cats'。", 
    "將group名稱<pet>的內容'dog'加上s變成複數'dogs'。",
    "比對'mouse'，找到後逕改為'mice'。",
)
print(
    f'method: re.sub()\n'
    f'{SINGLE_LINE}'
)
for index, pattern in enumerate(patterns):
    repl = replacement[index]
    print(
        f'round #     : {index}\n'
        f'pattern     : {pattern}\n'
        f'description : {descriptions[index]}\n'
        f'repl        : {repl}\n'
        f'before sub(): {new_string}'
    )
    # 要逐次更改內容，所以傳入字串和接傳回值的字串都是new_string。
    new_string = re.sub(
        repl=repl,
        string=new_string,
        pattern=pattern,
        count=count,
        flags=re.MULTILINE | re.IGNORECASE
    )

    print(
        f'after sub() : {new_string}\n'
        f'{SINGLE_LINE}'
    )


# re.subn()
pattern = r'\bpizza\b'
old_string = r'''Pizza is an Italian dish consisting of a usually round, 
flattened base of leavened wheat-based dough topped with tomatoes, cheese, 
and often various other ingredients (such as anchovies, mushrooms, onions, olives, 
pineapple, meat, etc.), which is then baked at a high temperature, traditionally 
in a wood-fired oven.  A small pizza is sometimes called a pizzetta. 
A person who makes pizza is known as a pizzaiolo.
My favorite food is Pizza. What is yours?'''
replacement = 'Macaroni'

new_string = re.subn(pattern=pattern, string=old_string,
                     repl=replacement, flags=re.MULTILINE | re.IGNORECASE)

print(
    f'method: re.subn()\n'
    f'{SINGLE_LINE}\n'
    f'pattern    : {pattern}\n'
    r"description: 沒給count參數表取代全部。前後的'\b'是確保'pizza'為單字，排除'pizzaiolo'等情形。" '\n'
    f'count      : (not set)\n'
    f'actual subs: {new_string[SUB_COUNT]}\n\n'
    f'old_string:\n{old_string}\n'
    f'{SINGLE_LINE}\n'
    f'new_string:\n{new_string[SUB_STRING]}'
)


# re.subn()
pattern = r'\bpizza\b'  # 前後都加'\b'意思是要比對完整的英文字，像文中的'pizzaiolo'就比對不到。
old_string = r'''Pizza is an Italian dish consisting of a usually round, 
flattened base of leavened wheat-based dough topped with tomatoes, cheese, 
and often various other ingredients (such as anchovies, mushrooms, onions, olives, 
pineapple, meat, etc.), which is then baked at a high temperature, traditionally 
in a wood-fired oven.  A small pizza is sometimes called a pizzetta. 
A person who makes pizza is known as a pizzaiolo.
My favorite food is Pizza. What is yours?'''
replacement = r'Macaroni'
count = 10
# 以count參數設定將前10個'pizza'更換成'Mararoni'。可是不一定有10個'pizza'可供取代。
# 實際上改了幾個，可看本函數傳回值的第2個元素(new_string[1])。
new_string = re.subn(count=count, string=old_string,
                     pattern=pattern, repl=replacement,
                     flags=re.MULTILINE | re.IGNORECASE)

print(
    f'method     : re.subn()\n'
    f'pattern    : {pattern}\n'
    f'description: 以參數count={count}設定最多取代{count}個(從頭算起)。但實際取代次數要看subn()的傳回值。\n'
    f'count      : {count}\n'
    f'actual subs: {new_string[SUB_COUNT]}\n\n'
    f'old_string:\n{old_string}\n'
    f'{SINGLE_LINE}\n'
    f'new_string:\n{new_string[SUB_STRING]}'
)


# re.subn()
pattern = r'Pizza(?<=favorite food is Pizza)'
old_string = r'''Pizza is an Italian dish consisting of a usually round, 
flattened base of leavened wheat-based dough topped with tomatoes, cheese, 
and often various other ingredients (such as anchovies, mushrooms, onions, olives, 
pineapple, meat, etc.), which is then baked at a high temperature, traditionally 
in a wood-fired oven.  A small pizza is sometimes called a pizzetta. 
A person who makes pizza is known as a pizzaiolo.
My Favorite food is pizza. What is yours?'''
replacement = r'Macaroni'
count = 1
new_string = re.subn(pattern=pattern, repl=replacement,
                     string=old_string, count=count,
                     flags=re.MULTILINE | re.IGNORECASE)

print(
    f'method     : re.subn()\n'
    f'pattern    : {pattern}\n'
    f'description: 運用環視技術(look-around)中的反向肯定(positive lookbehind)來取代。\n'
    f'count      : {count}\n'
    f'actual subs: {new_string[SUB_COUNT]}\n\n'
    f'old_string:\n{old_string}\n'
    f'{SINGLE_LINE}\n'
    f'new_string:\n{new_string[SUB_STRING]}'
)


# re.subn()
patterns = ['(?P<pet>cat)', '()(?P<pet>dog)', 'mouse']
old_string = r'I like cat and dog, but hate mouse.'   # 文法錯誤，要用複數才對。
new_string = (old_string,)
count = 1
# replacement = [r'\g<1>s', r'\g<2>s', 'mice']
replacement = [r'\g<pet>s', r'\g<2>s', 'mice']

descriptions = (
    "pattern的group有命名<pet>，sub()則將<pet>的內容'cat'加上s變成複數'cats'。",
    "pattern有設named capturing group，但取代時用group的編號。名稱或編號都行。",
    "比對'mouse'，找到後逕改為'mice'。",
)

print(
    f'method: re.subn()\n'
    f'{SINGLE_LINE}'
)
for index, pattern in enumerate(patterns):
    repl = replacement[index]
    print(
        f'round #      : {index}\n'
        f'pattern      : {pattern}\n'
        f'description  : {descriptions[index]}\n'
        f'repl         : {repl}\n'
        f'before subn(): {new_string[SUB_STRING]}'
    )
    # 要逐次更改內容，所以傳入字串要是new_string[SUB_STRING]。
    new_string = re.subn(pattern=pattern, repl=repl, string=new_string[SUB_STRING], count=count, flags=re.MULTILINE|re.IGNORECASE)
    print(
        f'after subn() : {new_string[SUB_STRING]}\n'
        f'actual subs  : {new_string[SUB_COUNT]}\n'
        f'{SINGLE_LINE}'
    )


# re.split()
pattern = r'\W+'
# 注意：test_str的最後有個符合pattern的'#'，這樣會讓resulting list多出一個空字串元素。
test_str = 'Alex Becca ;Thomas,Asing ?   Marrianne!*!Audrey.. Marcus#'
resulting_list = re.split(pattern=pattern, string=test_str)

print(
    f'method : re.split()\n'
    f'{SINGLE_LINE}\n'
    f'pattern       : {pattern}\n'
    r"""description   : 1) pattern是'\W+'，即「數字、字母、底線符號_以外字元」，以此作split()的區隔符；
                2) string的最後有個符合pattern的'#'，會使resulting list末尾多出一個空字串元素。""" '\n'
    f'string        : {test_str}\n'
    f'resulting list: {resulting_list}\n'
    f'list items    : {len(resulting_list)}'
)


# re.split()
patterns = {
    0: r'(\W+)',         # 有1個group，所以切割後產生的list會包含每一個匹配的區隔符。
    1: r'(\W+?)',        # 試用non-greedy模式，結果有點奇怪，list中多出些空字串。
    2: r'(?:\W+)',       # 這是non-capturing group，不算是group，區隔符不會納入list。
    3: r'((\W+))',       # 2個nested groupS，效果是每個匹配區隔符會進入list兩次。
    4: r'(\W+)\s',       # 這樣的pattern，會分割錯誤，人名無法正確切出。
    5: r'(\W{2})(\W*)',  # 設2個獨立的groupS，造成區隔字串拆開存入list。
}

descriptions = (
    '有1個group，所以切割後產生的list會包含每一個匹配的區隔符。',
    '試用non-greedy模式，結果有點奇怪，list中多出些空字串。',
    '這是non-capturing group，不算是group，區隔符不會納入list。',
    '2個nested groupS，效果是每個匹配區隔符會進入list兩次。',
    '這樣的pattern，會分割錯誤，人名無法正確切出。',
    '設2個獨立的groupS，造成區隔字串拆開存入list。',
)

test_str = 'Alex Becca ;  Thomas?Marrianne!*!'
resulting_lists = {}
for key, pattern in patterns.items():
    resulting_lists[key] = re.split(pattern=pattern, string=test_str)

print('method: re.split()')
for key, resulting_list in resulting_lists.items():
    print(
        f'{SINGLE_LINE}\n'
        f'pattern       : {patterns[key]}\n'
        f'description   : {descriptions[key]}\n'
        f'string        : {test_str}\n'
        f'resulting list: {resulting_list}\n'
        f'list items    : {len(resulting_list)}'
    )


# re.split()
patterns = (r'\W+', r'(\W+)', r'((\W+))')
test_str = 'Alex Becca ;  Thomas!*!'
patterns_count = len(patterns)

descriptions = (
    r"沒有設group。",
    r"有1個group。",
    r"2個groups。",
)

print(
    f'method: re.split()\n'
    f'{SINGLE_LINE}'
)

start = -1
stop = 6
for maxsplit in range(start, stop):
    for index, pattern in enumerate(patterns, start=1):
        resulting_list = re.split(pattern=pattern, string=test_str,
                                  maxsplit=maxsplit)
        print(
            f'pattern       : {pattern}\n'
            f'description   : {descriptions[index - 1]}\n'
            f'string        : {test_str}\n'
            f'maxsplit      : {maxsplit}\n'
            f'resulting list: {resulting_list}\n'
            f'list items    : {len(resulting_list)}\n'
            f'{SINGLE_LINE if index < patterns_count else DOUBLE_LINE}'
        )


# re.escape()
pattern_sans_meta = 'https://www.python.org'
pattern_with_meta = r'http(?:s)?://www.(python.org)$'
patterns = (
    pattern_sans_meta,             # '.'就是字面上的'.'，理應轉義卻沒轉，因此代表的不是點而是任意字元。
    'https://www\.python\.org',    # '.'用手動轉義。
    re.escape(pattern_sans_meta),  # 用escape()自動轉義(等同上列的手動)。
    re.escape(pattern_with_meta),  # pattern內有些控制字元不能轉義，而escape()通通都轉，因而出錯。
           )
test_strs = ('The url is https://www.Python.org', 
             'The url is https://www@Python,org',  # pattern如沒有轉義，這個string也會匹配(本不應匹配到)。
           )

descriptions = (
    r"pattern的'.'就是'.'，未轉義，表任意字元。條件太寬鬆，應成功固然成功，原應失敗也成功。", 
    r"'.'用手動轉義(匹配成功與否以此為準)。", 
    r"用escape()轉義：因本pattern所有的'.'都要轉回字面意義，可整個pattern讓escape()處理。", 
    r"用escape()轉義：本pattern包含不能轉義的控制字元，不可整個pattern給escape()轉義。",
)

print(
    f'methods: re.escape() -> re.search()\n'
    f'{SINGLE_LINE}'
)
for test_str in test_strs:
    for index, pattern in enumerate(patterns):
        match = re.search(pattern=pattern, string=test_str,
                          flags=re.IGNORECASE)
        print(
            f'pattern    : {pattern}\n'
            f'description: {descriptions[index]}\n'
            f'string     : {test_str}\n'
            f"match      : {match}  {'匹配成功' if match is not None else '匹配失敗' }\n"
            f'{SINGLE_LINE}'
        )


# re.escape()
# 程式目的是要從test_str比對出下面的幾個expressions。
expressions = (
    '(a+b)',
    '(a-b)',
    '(a*b)',
    '(a/b)',
    '(a^b)'
)
expressions_manually_escaped = (
    '\(a\+b\)',
    '\(a-b\)',
    '\(a\*b\)',
    '\(a/b\)',
    '\(a\^b\)'
)
test_str = 'a*(a+b) + b*(a-b) + c*(a*c) - d*(a//b) + e(a^b) + f(a%b)'

# pattern完全沒轉義。
pattern_sans_escape = '|'.join(expressions)
# 用re.escape()將「字串」(即以上的expressions)轉義，再組合成完整pattern。
pattern_with_escape_func = '|'.join(re.escape(expression) for expression in expressions)
# 手動轉義後組成完整pattern。
pattern_manually_escaped = '|'.join(expressions_manually_escaped)

pattern_dicts = (
    {
      'name': pattern_sans_escape,
      'description': '沒用escape()，亦無手動轉義。比對結果並非預期。'
    },
    {
      'name': pattern_with_escape_func,
      'description': "有用escape()，結果正確。但請注意轉義只可在純字串部分，控制字元不可轉義。"
    },
    {
      'name': pattern_manually_escaped,
      'description': r"手動將pattern中欲轉回字面原義的特殊符號加'\'轉義。"
    },
)

print(
    f'methods: re.escape() -> re.finditer()\n'
    f'{SINGLE_LINE}'
)
for pattern_dict in pattern_dicts:
    is_matched = False
    pattern = pattern_dict['name']

    description = pattern_dict['description']
    matches = re.finditer(pattern=pattern, flags=re.MULTILINE | re.IGNORECASE,
                          string=test_str)
    print(
        f'pattern    : {pattern}\n'
        f'description: {description}\n'
        f'string     : {test_str}'
    )

    for m_id, match in enumerate(matches, start=1):   # enumerate()可以設定start的值。
        is_matched = True
        m_start_end = f'{match.start()}-{match.end()}'   # 抓出該match的開始和結束欄位。
        print(f'match{m_id:2}: {m_start_end:12}{match.group()}')   # match.group()等於match.group(0)
        for g_id in range(1, len(match.groups()) + 1):
            g_start_end = f'{match.start(g_id)}-{match.end(g_id)}'
    print(f'{SINGLE_LINE}')

    if not is_matched:
        print('  no match.')


terms = ['a_42', '(a^b)', '2|3', 'f']   # 注意這些元素都要取其字面意義，例如'2|3'不是2或3，就是'2|3'這個字串。

compiled_pattern_with_escape = re.compile('|'.join(re.escape(s) for s in terms))
compiled_pattern_sans_escape = re.compile('|'.join(terms))
patterns = (
    {
      'pattern_obj': compiled_pattern_with_escape,
      'description': f"目標是{terms}內各元素字串用'c'取代。運用escape()取代正確。"
    },
    {
      'pattern_obj': compiled_pattern_sans_escape,
      'description': '沒用escape()亦無手動轉義。取代錯誤。'
    }
)

old_string = 'f*(a^b) - 3//(a^b) + a/(a^b)'
replacement = 'c'

print(
    f'methods: re.escape() -> re.sub()\n'
    f'{SINGLE_LINE}'
)
for p in patterns:
    pattern = p['pattern_obj'].pattern
    description = p['description']
    new_string = p['pattern_obj'].sub(repl=replacement, string=old_string)
    print(
        f'old_string : {old_string}\n'
        f'pattern    : {pattern}\n'
        f'description: {description}\n'
        f'replacement: {replacement}\n'
        f'new_string : {new_string}\n'
        f'{SINGLE_LINE}'
    )
