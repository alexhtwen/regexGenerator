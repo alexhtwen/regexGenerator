def full_to_half(full_width_str):
    """全形字串轉成半形"""
    half_width_str = []
    for s in full_width_str:
        rstring = ""
        for uchar in s:
            inside_code = ord(uchar)
            if inside_code == 12288:  # 全形空格直接轉換
                inside_code = 32
            # 全形字元(空白除外)依全半形碼間的差距轉成半形。
            elif (inside_code >= 65281 and inside_code <= 65374):
                inside_code -= 65248
            rstring += chr(inside_code)
        half_width_str.append(rstring)
    return ''.join(half_width_str)

