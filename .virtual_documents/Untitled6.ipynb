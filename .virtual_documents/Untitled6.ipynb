from IPython.core.interactiveshell import InteractiveShell

InteractiveShell.ast_node_interactivity = "all"
print('InteractiveShell.ast_node_interactivity = "all"')


class Human():
    def __init__(self, name):
        self._name = name
        

me = Human('Alex')
me._name


class Person():
    def __init__(self):
        pass


class Base():
    def __init__(self):
        # Protected member
        self._a = 2


# Creating a derived class
class Derived(Base):
    def __init__(self):
        # Calling constructor of Base class
        Base.__init__(self)
        print("Calling protected member of base class: ")
        print(f'inside Derived: {self._a}')


obj1 = Derived()
obj2 = Base()

# person = Person()
# Calling protected member
# Outside class will result in
# AttributeError
print(obj1._a)
print(obj2._a)


def full_to_half(full_width_str):
    """全形字串轉成半形"""
    half_width_str = []
    for s in full_width_str:
        rstring = ""
        for uchar in s:
            inside_code = ord(uchar)
            if inside_code == 12288:  # 全形空格直接轉換
                inside_code = 32
            # 全形字元(空白除外)依全半形碼間的差距轉成半形。
            elif (inside_code >= 65281 and inside_code <= 65374):
                inside_code -= 65248
            rstring += chr(inside_code)
        half_width_str.append(rstring)
    return ''.join(half_width_str)


def strB2Q(ascii_str):
    """半形字串轉成全形"""
    ss = []
    for s in ascii_str:
        rstring = ""
        for uchar in s:
            inside_code = ord(uchar)
            if inside_code == 32:  # 全形空格直接轉換
                inside_code = 12288
            elif (inside_code >= 33 and inside_code <= 126):  # 全形字元（除空格）根據關係轉化
                inside_code += 65248
            rstring += chr(inside_code)
        ss.append(rstring)
    return ''.join(ss)


# a = strB2Q("你好ｐｙｔｈｏｎａｂｄａｌｄｕｉｚｘｃｖｂｎｍ")
str_full = "你好，ａｂｃｄＡＢＣＤ１２３４５６７８９０。"
print(str_full)
str_half = full_to_half(str_full)
print(str_half)

# str_full_new = strB2Q(str_half)
# print(str_full_new)


# a. 小於1: *100
# b. 小於10: *10
# c. 0改為21
# d. 小於21, 改為21
# e. 大於100, 改為100


i = 353331

if i < 1:
    i = i * 100
elif i < 10:
    i = i * 10

i = int(max(min(i, 100), 21))
i





s = '121p'
s.replace('.', '').isdigit()


s = ''
s.isalpha()
