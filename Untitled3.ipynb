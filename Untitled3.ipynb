{
 "cells": [
  {
   "cell_type": "code",
   "execution_count": 3,
   "metadata": {},
   "outputs": [
    {
     "name": "stdout",
     "output_type": "stream",
     "text": [
      "16.5 ns ± 0.0606 ns per loop (mean ± std. dev. of 7 runs, 100000000 loops each)\n",
      "53.6 ns ± 0.292 ns per loop (mean ± std. dev. of 7 runs, 10000000 loops each)\n"
     ]
    }
   ],
   "source": [
    "%timeit []\n",
    "%timeit list()"
   ]
  },
  {
   "cell_type": "code",
   "execution_count": 38,
   "metadata": {},
   "outputs": [
    {
     "data": {
      "text/plain": [
       "5"
      ]
     },
     "execution_count": 38,
     "metadata": {},
     "output_type": "execute_result"
    }
   ],
   "source": [
    "import copy\n",
    "x = {1, 2, 3, 4}\n",
    "y = {5, 1, 4, 7}\n",
    "z = {3, 1, 6, 0, 5}\n",
    "len(z)\n",
    "# a = x\n",
    "# a\n",
    "# id(x)\n",
    "# id(x.copy())\n",
    "# a = copy.deepcopy(x)\n",
    "# id(a)\n",
    "# x == y == z\n",
    "# 交集\n",
    "# xx = x & y\n",
    "# xx\n",
    "# f'x:, {id(x)}'\n",
    "# f'y:, {id(y)}'\n",
    "# f'x & y:, {id(x & y)}'\n",
    "# f'xx:, {id(xx)}'\n",
    "# x.intersection(y)\n",
    "# print()\n",
    "\n",
    "# # 聯集\n",
    "# x | y\n",
    "# x.union(y)\n",
    "# print()\n",
    "\n",
    "# # 差集\n",
    "# x - y\n",
    "# x.difference(y)\n",
    "# print('-----------')\n",
    "# %timeit x & y\n",
    "# %timeit x.intersection(y)\n",
    "# print()\n",
    "# %timeit x | y \n",
    "# %timeit x.union(y)\n",
    "# print()\n",
    "# %timeit x - y\n",
    "# %timeit x.difference(y)"
   ]
  }
 ],
 "metadata": {
  "kernelspec": {
   "display_name": "Python 3 (ipykernel)",
   "language": "python",
   "name": "python3"
  },
  "language_info": {
   "codemirror_mode": {
    "name": "ipython",
    "version": 3
   },
   "file_extension": ".py",
   "mimetype": "text/x-python",
   "name": "python",
   "nbconvert_exporter": "python",
   "pygments_lexer": "ipython3",
   "version": "3.8.10"
  }
 },
 "nbformat": 4,
 "nbformat_minor": 4
}
