{
 "cells": [
  {
   "cell_type": "markdown",
   "metadata": {},
   "source": [
    "## 目標：\n",
    "* 幫以下zen_in多行字串(即著名的'The Zen of Python')裝飾一下：\n",
    "    1. 加上行號(id)，從1開始，3欄，不足補零。\n",
    "    2. 行號和內文之間要有1個空白。\n",
    "    3. 每一行的行末補上句點(``'.'``)，最後一行則補驚嘆號(``'!'``)。\n",
    "* 結果輸出到另一字串zen_out。"
   ]
  },
  {
   "cell_type": "markdown",
   "metadata": {},
   "source": [
    "### 先定義一些常數，以及匯入this看'The Zen of Python'原文"
   ]
  },
  {
   "cell_type": "code",
   "execution_count": null,
   "metadata": {
    "scrolled": true
   },
   "outputs": [],
   "source": [
    "import re\n",
    "import this\n",
    "\n",
    "LEN_SINGLE = 20\n",
    "LEN_DOUBLE = 30\n",
    "SINGLE_LINE = '-' * LEN_SINGLE   # '-----'\n",
    "DOUBLE_LINE = '=' * LEN_DOUBLE   # '====='\n",
    "LINE_RETURN = '\\n'\n",
    "\n",
    "print(\n",
    "    f'\\n{SINGLE_LINE}\\n'\n",
    "    'Constants defined.')"
   ]
  },
  {
   "cell_type": "markdown",
   "metadata": {},
   "source": [
    "### 輸入字串zen_in\n",
    "* 圖示：\n",
    "![](https://i.imgur.com/2z3aTsw.png)\n",
    "* 注意字串的最後沒有空行，這是正確的，無須調整。"
   ]
  },
  {
   "cell_type": "code",
   "execution_count": null,
   "metadata": {
    "scrolled": true
   },
   "outputs": [],
   "source": [
    "zen_in = \\\n",
    "\"\"\"Beautiful is better than ugly\n",
    "Explicit is better than implicit\n",
    "Simple is better than complex\n",
    "Complex is better than complicated\n",
    "Flat is better than nested\n",
    "Sparse is better than dense\n",
    "Readability counts\n",
    "Special cases aren't special enough to break the rules\n",
    "Although practicality beats purity\n",
    "Errors should never pass silently\n",
    "Unless explicitly silenced\n",
    "In the face of ambiguity, refuse the temptation to guess\n",
    "There should be one-- and preferably only one --obvious way to do it\n",
    "Although that way may not be obvious at first unless you're Dutch\n",
    "Now is better than never\n",
    "Although never is often better than *right* now\n",
    "If the implementation is hard to explain, it's a bad idea\n",
    "If the implementation is easy to explain, it may be a good idea\n",
    "Namespaces are one honking great idea -- let's do more of those\"\"\"\n",
    "\n",
    "# 順便「科普」一下，取得多行字串的「行數」可以有很多種方法，以下是其中3種：\n",
    "print(\n",
    "    rf\"1. zen_in.count('\\n')      : {zen_in.count(LINE_RETURN)}    # 可能少算一行\" '\\n'\n",
    "    rf\"2. len(zen_in.split('\\n')) : {len(zen_in.split(LINE_RETURN))}    # 可能多算一行\" '\\n'\n",
    "    rf'3. len(zen_in.splitlines()): {len(zen_in.splitlines())}    # 最正確' '\\n'\n",
    "    f'{SINGLE_LINE}\\n'\n",
    "    f'zen_in:\\n'\n",
    "    f'{zen_in}'\n",
    ")"
   ]
  },
  {
   "cell_type": "markdown",
   "metadata": {},
   "source": [
    "### 輸出字串zen_out範例\n",
    "* 以zen_in為基礎：\n",
    "    1. 加上行號(id)，從1開始，3欄，不足補零。\n",
    "    2. 行號和內文之間要有1個空白。\n",
    "    3. 每一行的行末補上句點(``'.'``)，最後一行則補驚嘆號(``'!'``)。\n",
    "    4. 注意最後不要有多餘的空行。\n",
    "* 圖示：\n",
    "    ![](https://i.imgur.com/6hIpqX3.png)"
   ]
  },
  {
   "cell_type": "code",
   "execution_count": null,
   "metadata": {
    "scrolled": true
   },
   "outputs": [],
   "source": [
    "zen_out = \"\"\"001 Beautiful is better than ugly.\n",
    "002 Explicit is better than implicit.\n",
    "003 Simple is better than complex.\n",
    "004 Complex is better than complicated.\n",
    "005 Flat is better than nested.\n",
    "006 Sparse is better than dense.\n",
    "007 Readability counts.\n",
    "008 Special cases aren't special enough to break the rules.\n",
    "009 Although practicality beats purity.\n",
    "010 Errors should never pass silently.\n",
    "011 Unless explicitly silenced.\n",
    "012 In the face of ambiguity, refuse the temptation to guess.\n",
    "013 There should be one-- and preferably only one --obvious way to do it.\n",
    "014 Although that way may not be obvious at first unless you're Dutch.\n",
    "015 Now is better than never.\n",
    "016 Although never is often better than *right* now.\n",
    "017 If the implementation is hard to explain, it's a bad idea.\n",
    "018 If the implementation is easy to explain, it may be a good idea.\n",
    "019 Namespaces are one honking great idea -- let's do more of those!\"\"\"\n",
    "\n",
    "print(\n",
    "    f'目的：將zen_in加工為以下的zen_out。\\n'\n",
    "    f'      1) 行首加行號(id)，從1開始，3欄，不足補零。\\n'\n",
    "    f'      2) 行號和內文間有1個空白。\\n'\n",
    "    f'      3) 行末補上句點(\\'.\\')，最後一行則補驚嘆號(\\'!\\')\\n'\n",
    "    f'{SINGLE_LINE}\\n'\n",
    "    f'zen_out範例:\\n{zen_out:}'\n",
    ")"
   ]
  },
  {
   "cell_type": "markdown",
   "metadata": {},
   "source": [
    "### 版本-1\n",
    "* 迴圈內用最簡單的字串連接。\n",
    "* 結果不正確：\n",
    "    1. 末行(019)的最後應為驚嘆號'!'，不是句點'.'。\n",
    "    2. 多出1行。\n",
    "* 圖示：    \n",
    "    ![](https://i.imgur.com/cWyVffP.png)"
   ]
  },
  {
   "cell_type": "code",
   "execution_count": null,
   "metadata": {},
   "outputs": [],
   "source": [
    "# version 1\n",
    "zen_out = ''\n",
    "for id, line in enumerate(zen_in.splitlines(), start=1):\n",
    "    zen_out += f'{id:>03} {line}.\\n'\n",
    "\n",
    "print(\n",
    "    f'zen_out:\\n'\n",
    "    f'{zen_out}'\n",
    ")"
   ]
  },
  {
   "cell_type": "markdown",
   "metadata": {},
   "source": [
    "### 版本-2\n",
    "* 迴圈內逐行判斷，最後一行特別處理。\n",
    "* 結果正確。\n",
    "* code還算直觀，筆者原本以為如果行數很多(千萬行以上)，此版本效率會較差。不過筆者實測發現，行數超多時此版本亦未明顯變慢。"
   ]
  },
  {
   "cell_type": "code",
   "execution_count": null,
   "metadata": {},
   "outputs": [],
   "source": [
    "# version 2\n",
    "zen_out = ''\n",
    "num_lines = len(zen_in.splitlines())   # 後面用得到總行數。\n",
    "\n",
    "for id, line in enumerate(zen_in.splitlines(), start=1):\n",
    "    if id == num_lines:   # 最後那行\n",
    "        tail = '!'\n",
    "    else:\n",
    "        tail = '.\\n'\n",
    "    zen_out += f'{id:>03} {line}{tail}'\n",
    "\n",
    "print(\n",
    "    f'zen_out:\\n'\n",
    "    f'{zen_out}'\n",
    ")"
   ]
  },
  {
   "cell_type": "markdown",
   "metadata": {},
   "source": [
    "### 版本-3\n",
    "* 先處理第1行，其後進迴圈從第2行起迭代。\n",
    "* 結果正確。\n",
    "* 注意迴圈外那行沒有標點符號和換行碼。\n",
    "* 迴圈內則先是(上一行的)標點符號和換行，再來才是id和本行內容。順序要倒過來。\n",
    "* 筆者以前常用此法。除了要先處理第1行，code比較囉唆，此法還算好理解。"
   ]
  },
  {
   "cell_type": "code",
   "execution_count": null,
   "metadata": {
    "scrolled": true
   },
   "outputs": [],
   "source": [
    "# version 3\n",
    "zen_out = ''\n",
    "lines = zen_in.splitlines()\n",
    "if lines:\n",
    "    id = 1\n",
    "    zen_out += f'{id:>03} {lines[0]}'\n",
    "    for id, line in enumerate(lines[1:], start=2):   # 從第2行起迭代。注意是先逗點和換行碼，才是id和內容。\n",
    "        zen_out += f'.\\n{id:>03} {line}'\n",
    "    zen_out += '!'\n",
    "\n",
    "print(\n",
    "    f'zen_out:\\n'\n",
    "    f'{zen_out}'\n",
    ")"
   ]
  },
  {
   "cell_type": "markdown",
   "metadata": {},
   "source": [
    "### 版本-4\n",
    "* 先進迴圈迭代前n-1行，其後另行處理最後1行。\n",
    "* 結果正確。\n",
    "* 迴圈內的順序就是id、本行內容、標點符號和換行，順序不必顛倒。這點較版本-3自然。"
   ]
  },
  {
   "cell_type": "code",
   "execution_count": null,
   "metadata": {
    "scrolled": true
   },
   "outputs": [],
   "source": [
    "# version 4\n",
    "zen_out = ''\n",
    "lines = zen_in.splitlines()\n",
    "if lines:\n",
    "    id = 0\n",
    "    for id, line in enumerate(lines[:-1], start=1):   # 迭代前n-1行。\n",
    "        zen_out += f'{id:>03} {line}.\\n'\n",
    "    zen_out += f'{id+1:>03} {lines[-1]}!'   # 最後1行\n",
    "\n",
    "print(\n",
    "    f'zen_out:\\n'\n",
    "    f'{zen_out}'\n",
    ")"
   ]
  },
  {
   "cell_type": "markdown",
   "metadata": {},
   "source": [
    "### 版本-5\n",
    "* 逐行迭代，然後修改最後一行。\n",
    "* 結果正確。\n",
    "* 筆者目前比較傾向使用此版本。"
   ]
  },
  {
   "cell_type": "code",
   "execution_count": null,
   "metadata": {},
   "outputs": [],
   "source": [
    "# version 5\n",
    "zen_out = ''\n",
    "for id, line in enumerate(zen_in.splitlines(), start=1):\n",
    "    zen_out += f'{id:>03} {line}.\\n'\n",
    "if zen_out:\n",
    "    zen_out = f\"{zen_out[:-2]}!\"   # 刪除最後的2個錯誤字元',\\n'，再補上正確的'!'。\n",
    "\n",
    "print(\n",
    "    f'zen_out:\\n'\n",
    "    f'{zen_out}'\n",
    ")"
   ]
  },
  {
   "cell_type": "markdown",
   "metadata": {},
   "source": [
    "### 版本-6\n",
    "* 用Python的replace()函數，1行解決。\n",
    "* 結果正確。\n",
    "* 好玩耳。實際寫code不要這樣，太不直觀了。\n",
    "* 原字串如行數很多，此版本效能非常差，行數越多越差。如在百萬行以上，可以比前幾版慢幾千至幾萬倍。"
   ]
  },
  {
   "cell_type": "code",
   "execution_count": null,
   "metadata": {
    "scrolled": true
   },
   "outputs": [],
   "source": [
    "# version 6\n",
    "zen_out = ''.join([f'{id:03} {line}' + ('\\n' if id < len(zen_in.splitlines()) else '') for id, line in enumerate((zen_in.replace('\\n', '.\\n') + ('!' if zen_in else '')).splitlines(), start=1)])\n",
    "\n",
    "print(\n",
    "    f'zen_out:\\n'\n",
    "    f'{zen_out}'\n",
    ")"
   ]
  },
  {
   "cell_type": "markdown",
   "metadata": {},
   "source": [
    "### 版本-7\n",
    "* 用re的sub()函數，1行解決。\n",
    "* 結果正確。\n",
    "* 好玩耳。實際寫code不要這樣，太不直觀了。\n",
    "* 原字串如行數很多，此版本效能可能比版本-6更差。"
   ]
  },
  {
   "cell_type": "code",
   "execution_count": null,
   "metadata": {},
   "outputs": [],
   "source": [
    "# version 7\n",
    "zen_out = ''.join([f'{id:03} {line}' + ('\\n' if id < len(zen_in.splitlines()) else '') for id, line in enumerate((re.sub(string=zen_in, pattern=r'(.*)\\n', repl=r'\\g<1>.\\n') + ('!' if zen_in else '')).splitlines(), start=1)])\n",
    "\n",
    "print(\n",
    "    f'zen_out:\\n'\n",
    "    f'{zen_out}'\n",
    ")"
   ]
  },
  {
   "cell_type": "markdown",
   "metadata": {},
   "source": [
    "### 版本-8\n",
    "* 這是邏輯和版本-7等價的verbose(冗長)版。\n",
    "* 結果正確。\n",
    "* 此版本效能比版本-7好得多。"
   ]
  },
  {
   "cell_type": "code",
   "execution_count": null,
   "metadata": {},
   "outputs": [],
   "source": [
    "# version 8\n",
    "zen_tmp = re.sub(string=zen_in, pattern=r'(.*)\\n', repl=r'\\g<1>.\\n') + ('!' if zen_in else '')\n",
    "zen_list_raw = zen_tmp.splitlines()\n",
    "num_lines = len(zen_list_raw)\n",
    "zen_list_done = []\n",
    "for id, line in enumerate(zen_list_raw, start=1):\n",
    "    if id < num_lines:\n",
    "        tail = '\\n'\n",
    "    else:\n",
    "        tail = ''\n",
    "    zen_list_done.append(f'{id:03} {line}{tail}')\n",
    "zen_out = ''.join(zen_list_done)    \n",
    "\n",
    "print(\n",
    "    f'zen_out:\\n'\n",
    "    f'{zen_out}'\n",
    ")"
   ]
  }
 ],
 "metadata": {
  "kernelspec": {
   "display_name": "Python 3",
   "language": "python",
   "name": "python3"
  },
  "language_info": {
   "codemirror_mode": {
    "name": "ipython",
    "version": 3
   },
   "file_extension": ".py",
   "mimetype": "text/x-python",
   "name": "python",
   "nbconvert_exporter": "python",
   "pygments_lexer": "ipython3",
   "version": "3.8.6"
  }
 },
 "nbformat": 4,
 "nbformat_minor": 4
}
