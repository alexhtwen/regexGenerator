{
 "cells": [
  {
   "cell_type": "markdown",
   "id": "b90ed0df-7c66-418f-81f9-df8e0779cf03",
   "metadata": {},
   "source": [
    "* 全形字元的unicode編碼從65281-65374，而半形字元的unicode編碼從33-126，也就是同樣的字，全形與半形數字之間差距65248。\n",
    "* 例如半形的驚嘆號(!)的unicode編碼是33，則全形的驚嘆號(！)的unicode的編碼會是33 + 65248 = 65281"
   ]
  },
  {
   "cell_type": "code",
   "execution_count": 1,
   "id": "67106a12-2a22-4666-93a4-57b7719e40f4",
   "metadata": {},
   "outputs": [],
   "source": [
    "def full_to_half(full_width_str):\n",
    "    \"\"\"全形字串轉成半形\"\"\"\n",
    "    half_width_str = []\n",
    "    for s in full_width_str:\n",
    "        rstring = \"\"\n",
    "        for uchar in s:\n",
    "            inside_code = ord(uchar)\n",
    "            if inside_code == 12288:  # 全形空格直接轉換\n",
    "                inside_code = 32\n",
    "            # 全形字元(空白除外)依全半形碼間的差距轉成半形。\n",
    "            elif (inside_code >= 65281 and inside_code <= 65374):\n",
    "                inside_code -= 65248\n",
    "            rstring += chr(inside_code)\n",
    "        half_width_str.append(rstring)\n",
    "    return ''.join(half_width_str)"
   ]
  },
  {
   "cell_type": "code",
   "execution_count": 2,
   "id": "4c33117b-bd42-4df2-89e5-3aff51e90061",
   "metadata": {},
   "outputs": [
    {
     "name": "stdout",
     "output_type": "stream",
     "text": [
      "你好，ａｂｃｄＡＢＣＤ１２３４５６７８９０。\n",
      "你好,abcdABCD1234567890。\n"
     ]
    }
   ],
   "source": [
    "str_full = \"你好，ａｂｃｄＡＢＣＤ１２３４５６７８９０。\"\n",
    "print(str_full)\n",
    "str_half = full_to_half(str_full)\n",
    "print(str_half)"
   ]
  }
 ],
 "metadata": {
  "kernelspec": {
   "display_name": "Python 3",
   "language": "python",
   "name": "python3"
  },
  "language_info": {
   "codemirror_mode": {
    "name": "ipython",
    "version": 3
   },
   "file_extension": ".py",
   "mimetype": "text/x-python",
   "name": "python",
   "nbconvert_exporter": "python",
   "pygments_lexer": "ipython3",
   "version": "3.8.6"
  }
 },
 "nbformat": 4,
 "nbformat_minor": 5
}
