{
 "cells": [
  {
   "cell_type": "code",
   "execution_count": 6,
   "id": "74cde57e-cf1f-4259-b672-dd88b81851be",
   "metadata": {
    "tags": []
   },
   "outputs": [
    {
     "name": "stdout",
     "output_type": "stream",
     "text": [
      "Your BMI is: 23.92\n"
     ]
    }
   ],
   "source": [
    "def get_bmi(height: float, weight: float) -> float:\n",
    "    return weight / (height ** 2)\n",
    "\n",
    "\n",
    "num = \"njknjk ji ui hyu yu y7gyu gytt6 t6 t6t6tytyty tyty ftry tytyty tyftyf t6yft6 ty fty fty fty ty ty ty\"\n",
    "bmi = get_bmi(height=1.68, weight=67.5)\n",
    "print(f\"Your BMI is: {bmi:.2f}\")"
   ]
  },
  {
   "cell_type": "code",
   "execution_count": 4,
   "id": "e392e78e-4aa9-4bb5-9810-45ecd4c5af95",
   "metadata": {},
   "outputs": [
    {
     "name": "stdout",
     "output_type": "stream",
     "text": [
      "Your BMI is: 23.92\n"
     ]
    }
   ],
   "source": [
    "def get_bmi(height: float, weight: float) -> float:\n",
    "    bmi = weight / (height ** 2)\n",
    "    print(f\"Your BMI is: {bmi:.2f}\")\n",
    "    return bmi\n",
    "\n",
    "\n",
    "bmi = get_bmi(height=1.68, weight=67.5)"
   ]
  },
  {
   "cell_type": "code",
   "execution_count": 2,
   "id": "85a31391-d3db-436c-ba9e-b4ae79f76780",
   "metadata": {},
   "outputs": [
    {
     "data": {
      "text/plain": [
       "{-1: 'Alex', -2: 'Becca'}"
      ]
     },
     "execution_count": 2,
     "metadata": {},
     "output_type": "execute_result"
    }
   ],
   "source": [
    "my_dict = {-1: \"Alex\", -2: \"Becca\"}\n",
    "my_dict"
   ]
  },
  {
   "cell_type": "code",
   "execution_count": null,
   "id": "81be1f99-7dbc-46b6-9e6a-779806e23d55",
   "metadata": {},
   "outputs": [],
   "source": [
    "name = 'Alex'\n",
    "print(f'name: {name=}')\n",
    "\n",
    "print('name: {}'.format(name=)"
   ]
  },
  {
   "cell_type": "code",
   "execution_count": null,
   "id": "0d16da0d-57df-4214-afb1-f0a2a16806ba",
   "metadata": {},
   "outputs": [],
   "source": [
    "num = 0.1 + 0.1 + 0.1\n",
    "\n"
   ]
  }
 ],
 "metadata": {
  "kernelspec": {
   "display_name": "Python 3",
   "language": "python",
   "name": "python3"
  },
  "language_info": {
   "codemirror_mode": {
    "name": "ipython",
    "version": 3
   },
   "file_extension": ".py",
   "mimetype": "text/x-python",
   "name": "python",
   "nbconvert_exporter": "python",
   "pygments_lexer": "ipython3",
   "version": "3.8.6"
  }
 },
 "nbformat": 4,
 "nbformat_minor": 5
}
