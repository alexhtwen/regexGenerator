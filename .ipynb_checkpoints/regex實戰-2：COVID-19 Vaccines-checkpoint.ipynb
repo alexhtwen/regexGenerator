{
 "cells": [
  {
   "cell_type": "markdown",
   "metadata": {},
   "source": [
    "# COVID-19疫苗text搜尋"
   ]
  },
  {
   "cell_type": "code",
   "execution_count": 7,
   "metadata": {},
   "outputs": [
    {
     "name": "stdout",
     "output_type": "stream",
     "text": [
      "'re' module imported.\n",
      "2021-08-31 14:48:14\n"
     ]
    }
   ],
   "source": [
    "import re\n",
    "from datetime import datetime\n",
    "now = datetime.now().strftime(\"%Y-%m-%d %H:%M:%S\")\n",
    "print(\n",
    "    f\"'re' module imported.\\n\"\n",
    "    f'{now}'\n",
    ")"
   ]
  },
  {
   "cell_type": "markdown",
   "metadata": {},
   "source": [
    "## 本檔使用的一些常數"
   ]
  },
  {
   "cell_type": "code",
   "execution_count": 15,
   "metadata": {},
   "outputs": [
    {
     "name": "stdout",
     "output_type": "stream",
     "text": [
      "Constants defined.\n"
     ]
    }
   ],
   "source": [
    "LEN_SINGLE = 20\n",
    "LEN_DOUBLE = 30\n",
    "SINGLE_LINE = '-' * LEN_SINGLE   # '-----'\n",
    "DOUBLE_LINE = '=' * LEN_DOUBLE   # '====='\n",
    "LINE_RETURN = '\\n'\n",
    "print('Constants defined.')"
   ]
  },
  {
   "cell_type": "markdown",
   "metadata": {},
   "source": [
    "## COVID-19疫苗text搜尋"
   ]
  },
  {
   "cell_type": "code",
   "execution_count": 9,
   "metadata": {},
   "outputs": [
    {
     "name": "stdout",
     "output_type": "stream",
     "text": [
      "test_str:\n",
      "COVID-19 Vaccines List:\n",
      "1.   BNT: Germany vvadb a 536ml  va 199cc  kjk b 15ml\n",
      "2. Moderna: USA 99cc jufb v57.c  b23.0ml\n",
      "3. UBI: ROC  aavab kk 10.3cc  kkkji b 13.0cc  km  b 9.5cc\n",
      "4.  AZ: UK j; kva 3.5cc  250 va10cc\n",
      "5.Johnson & Johnson:  USA 545.00cc vva30ml  d5cc  55.0\n",
      "6.  Sinopharm: PRC b 5.0ml add to b 7.0ml\n",
      "7. MVC: ROC  vvadb a 536ml  va 199cc  kjk b 15ml\n",
      "8.CoronaVac: PRC aavab kk 10.3cc  kkkji b 13.0cc  km  b 9.5cc\n"
     ]
    }
   ],
   "source": [
    "# pattern_tail = r'(?:.*?\\b(?:va|b|a)\\s*(\\d+(?:\\.\\d*)?(?=cc|ml)))'\n",
    "test_str = \\\n",
    "'''COVID-19 Vaccines List:\n",
    "1.   BNT: Germany vvadb a 536ml  va 199cc  kjk b 15ml\n",
    "2. Moderna: USA 99cc jufb v57.c  b23.0ml\n",
    "3. UBI: ROC  aavab kk 10.3cc  kkkji b 13.0cc  km  b 9.5cc\n",
    "4.  AZ: UK j; kva 3.5cc  250 va10cc\n",
    "5.Johnson & Johnson:  USA 545.00cc vva30ml  d5cc  55.0\n",
    "6.  Sinopharm: PRC b 5.0ml add to b 7.0ml\n",
    "7. MVC: ROC  vvadb a 536ml  va 199cc  kjk b 15ml\n",
    "8.CoronaVac: PRC aavab kk 10.3cc  kkkji b 13.0cc  km  b 9.5cc'''\n",
    "\n",
    "print(\n",
    "    f'test_str:\\n'\n",
    "    f'{test_str}'\n",
    ")"
   ]
  },
  {
   "cell_type": "code",
   "execution_count": 17,
   "metadata": {},
   "outputs": [
    {
     "name": "stdout",
     "output_type": "stream",
     "text": [
      "pattern: (?:BNT|Moderna|AZ|Johnson\\ \\&\\ Johnson|Sinopharm|CoronaVac)(?:.*?\\b(?:va|b|a)\\s*(\\d+(?:\\.\\d*)?(?=cc|ml)))\n",
      "string : COVID-19 Vaccines List:\n",
      "1.   BNT: Germany vvadb a 536ml  va 199cc  kjk b 15ml\n",
      "2. Moderna: USA 99cc jufb v57.c  b23.0ml\n",
      "3. UBI: ROC  aavab kk 10.3cc  kkkji b 13.0cc  km  b 9.5cc\n",
      "4.  AZ: UK j; kva 3.5cc  250 va10cc\n",
      "5.Johnson & Johnson:  USA 545.00cc vva30ml  d5cc  55.0\n",
      "6.  Sinopharm: PRC b 5.0ml add to b 7.0ml\n",
      "7. MVC: ROC  vvadb a 536ml  va 199cc  kjk b 15ml\n",
      "8.CoronaVac: PRC aavab kk 10.3cc  kkkji b 13.0cc  km  b 9.5cc\n",
      "# of groups  : 1\n",
      "\n",
      "results:\n",
      "match 1: 29-53       BNT: Germany vvadb a 536\n",
      "  group 1: 50-53     536\n",
      "\n",
      "match 2: 81-116      Moderna: USA 99cc jufb v57.c  b23.0\n",
      "  group 1: 112-116   23.0\n",
      "\n",
      "match 3: 181-210     AZ: UK j; kva 3.5cc  250 va10\n",
      "  group 1: 208-210   10\n",
      "\n",
      "match 4: 272-292     Sinopharm: PRC b 5.0\n",
      "  group 1: 289-292   5.0\n",
      "\n",
      "match 5: 361-405     CoronaVac: PRC aavab kk 10.3cc  kkkji b 13.0\n",
      "  group 1: 401-405   13.0\n",
      "\n",
      "--------------------\n"
     ]
    }
   ],
   "source": [
    "# re.finditer()\n",
    "who_eua_vaccines = ('BNT', 'Moderna', 'AZ', 'Johnson & Johnson', 'Sinopharm', 'CoronaVac')\n",
    "# pattern0 = r'(?:BNT|Moderna|AZ|Johnson & Johnson|Sinopharm|CoronaVac)(?:.*?\\b(?:va|b|a)\\s*(\\d+(?:\\.\\d*)?(?=cc|ml)))'\n",
    "# pattern0\n",
    "pattern_head = f'(?:{\"|\".join([re.escape(vaccine) for vaccine in who_eua_vaccines])})'\n",
    "pattern_tail = r'(?:.*?\\b(?:va|b|a)\\s*(\\d+(?:\\.\\d*)?(?=cc|ml)))'\n",
    "pattern = f'{pattern_head}{pattern_tail}'\n",
    "\n",
    "# for pattern in patterns:\n",
    "num_groups = re.compile(pattern).groups\n",
    "matches = re.finditer(pattern=pattern, flags=re.MULTILINE|re.IGNORECASE, string=test_str)\n",
    "print(\n",
    "    f'pattern: {pattern}\\n'\n",
    "    f'string : {test_str}\\n'\n",
    "    f'# of groups  : {num_groups}\\n'\n",
    ")\n",
    "\n",
    "print('results:')\n",
    "is_matched = False\n",
    "for m_id, match in enumerate(matches, start=1):   # enumerate()可以設定start的值。\n",
    "    is_matched = True\n",
    "    m_start_end = f'{match.start()}-{match.end()}'   # 抓出該match的開始和結束欄位。\n",
    "    print(f'match{m_id:2}: {m_start_end:12}{match.group()}')   # match.group()等於match.group(0)\n",
    "    # 每一個match的group(0)是「整個匹配字串」。請注意：findall()並不提供這個group(0)。\n",
    "    # 其實我們關心的多半是自己定義的groups而非group(0)，所以下列迴圈從1而非0起迭代。\n",
    "    for g_id in range(1, len(match.groups()) + 1): \n",
    "        g_start_end = f'{match.start(g_id)}-{match.end(g_id)}'\n",
    "        print(f'  group{g_id:2}: {g_start_end:10}{match.group(g_id)}')\n",
    "    print()\n",
    "\n",
    "if not is_matched:\n",
    "    print('  no match.')\n",
    "print(f'{SINGLE_LINE}')"
   ]
  }
 ],
 "metadata": {
  "kernelspec": {
   "display_name": "Python 3 (ipykernel)",
   "language": "python",
   "name": "python3"
  },
  "language_info": {
   "codemirror_mode": {
    "name": "ipython",
    "version": 3
   },
   "file_extension": ".py",
   "mimetype": "text/x-python",
   "name": "python",
   "nbconvert_exporter": "python",
   "pygments_lexer": "ipython3",
   "version": "3.8.10"
  }
 },
 "nbformat": 4,
 "nbformat_minor": 4
}
