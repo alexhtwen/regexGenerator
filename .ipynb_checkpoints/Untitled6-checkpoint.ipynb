{
 "cells": [
  {
   "cell_type": "code",
   "execution_count": 2,
   "id": "c925b6d5-8336-4126-9620-e4d142d65525",
   "metadata": {},
   "outputs": [
    {
     "name": "stdout",
     "output_type": "stream",
     "text": [
      "InteractiveShell.ast_node_interactivity = \"all\"\n"
     ]
    }
   ],
   "source": [
    "from IPython.core.interactiveshell import InteractiveShell\n",
    "\n",
    "InteractiveShell.ast_node_interactivity = \"all\"\n",
    "print('InteractiveShell.ast_node_interactivity = \"all\"')"
   ]
  },
  {
   "cell_type": "code",
   "execution_count": 5,
   "id": "aeb310f8-d062-4a5a-9288-bab1e0f1646a",
   "metadata": {},
   "outputs": [
    {
     "data": {
      "text/plain": [
       "'Alex'"
      ]
     },
     "execution_count": 5,
     "metadata": {},
     "output_type": "execute_result"
    }
   ],
   "source": [
    "class Human():\n",
    "    def __init__(self, name):\n",
    "        self._name = name\n",
    "        \n",
    "\n",
    "me = Human('Alex')\n",
    "me._name"
   ]
  },
  {
   "cell_type": "code",
   "execution_count": 11,
   "id": "5c96671e-79e5-4bdd-9c6c-a52cbe409931",
   "metadata": {},
   "outputs": [
    {
     "name": "stdout",
     "output_type": "stream",
     "text": [
      "Calling protected member of base class: \n",
      "inside Derived: 2\n",
      "2\n",
      "2\n"
     ]
    }
   ],
   "source": [
    "class Person():\n",
    "    def __init__(self):\n",
    "        pass\n",
    "\n",
    "\n",
    "class Base():\n",
    "    def __init__(self):\n",
    "        # Protected member\n",
    "        self._a = 2\n",
    "\n",
    "\n",
    "# Creating a derived class\n",
    "class Derived(Base):\n",
    "    def __init__(self):\n",
    "        # Calling constructor of Base class\n",
    "        Base.__init__(self)\n",
    "        print(\"Calling protected member of base class: \")\n",
    "        print(f'inside Derived: {self._a}')\n",
    "\n",
    "\n",
    "obj1 = Derived()\n",
    "obj2 = Base()\n",
    "\n",
    "# person = Person()\n",
    "# Calling protected member\n",
    "# Outside class will result in\n",
    "# AttributeError\n",
    "print(obj1._a)\n",
    "print(obj2._a)"
   ]
  },
  {
   "cell_type": "code",
   "execution_count": null,
   "id": "01a8cdfd-e1e2-4d9c-826d-5154ebe0fc18",
   "metadata": {},
   "outputs": [],
   "source": [
    "因為全形字元的 unicode 編碼從 65281~65374，而半形字元的 unicode 編碼從 33~126，也就是同樣的字在全形與半形數字會差 65248。\n",
    "\n",
    "例如，半形的驚嘆號（!）是 unicode 編碼是 33，則全形的驚嘆號（！）unicode 就會編碼是 33 + 65248 = 65281\n",
    "\n",
    "但要將數字解析成半形時是使用 chr() function，而全形則是使用 unichr() function。\n",
    "\n",
    "以下將 33~126 全部列出來，並轉換成全形。"
   ]
  },
  {
   "cell_type": "code",
   "execution_count": 26,
   "id": "253b23b6-49bc-4c37-bf42-2a47215d6cad",
   "metadata": {},
   "outputs": [],
   "source": [
    "def strQ2B(full_width):  # Halfwidth):\n",
    "    \"\"\"全形字串轉成半形\"\"\"\n",
    "    half_width = []\n",
    "    for s in full_width:\n",
    "        rstring = \"\"\n",
    "        for uchar in s:\n",
    "            inside_code = ord(uchar)\n",
    "            if inside_code == 12288:  # 全形空格直接轉換\n",
    "                inside_code = 32\n",
    "            elif (inside_code >= 65281 and inside_code <= 65374):  # 全形字元（除空格）根據關係轉化\n",
    "                inside_code -= 65248\n",
    "            rstring += chr(inside_code)\n",
    "        half_width.append(rstring)\n",
    "    return ''.join(half_width)"
   ]
  },
  {
   "cell_type": "code",
   "execution_count": 19,
   "id": "3ee07141-daf0-41f0-94c2-06d68268f7bb",
   "metadata": {},
   "outputs": [],
   "source": [
    "def strB2Q(ascii_str):\n",
    "    \"\"\"半形字串轉成全形\"\"\"\n",
    "    ss = []\n",
    "    for s in ascii_str:\n",
    "        rstring = \"\"\n",
    "        for uchar in s:\n",
    "            inside_code = ord(uchar)\n",
    "            if inside_code == 32:  # 全形空格直接轉換\n",
    "                inside_code = 12288\n",
    "            elif (inside_code >= 33 and inside_code <= 126):  # 全形字元（除空格）根據關係轉化\n",
    "                inside_code += 65248\n",
    "            rstring += chr(inside_code)\n",
    "        ss.append(rstring)\n",
    "    return ''.join(ss)"
   ]
  },
  {
   "cell_type": "code",
   "execution_count": 27,
   "id": "c9cfac92-7477-4f9a-9e23-51f3cf0b1ea1",
   "metadata": {},
   "outputs": [
    {
     "name": "stdout",
     "output_type": "stream",
     "text": [
      "你好，ａｂｃｄＡＢＣＤ１２３４５６７８９０。\n",
      "你好,abcdABCD1234567890。\n",
      "你好，ａｂｃｄＡＢＣＤ１２３４５６７８９０。\n"
     ]
    }
   ],
   "source": [
    "# a = strB2Q(\"你好ｐｙｔｈｏｎａｂｄａｌｄｕｉｚｘｃｖｂｎｍ\")\n",
    "str_full = \"你好，ａｂｃｄＡＢＣＤ１２３４５６７８９０。\"\n",
    "print(str_full)\n",
    "str_half = strQ2B(str_full)\n",
    "print(str_half)\n",
    "\n",
    "str_full_new = strB2Q(str_half)\n",
    "print(str_full_new)"
   ]
  }
 ],
 "metadata": {
  "kernelspec": {
   "display_name": "Python 3",
   "language": "python",
   "name": "python3"
  },
  "language_info": {
   "codemirror_mode": {
    "name": "ipython",
    "version": 3
   },
   "file_extension": ".py",
   "mimetype": "text/x-python",
   "name": "python",
   "nbconvert_exporter": "python",
   "pygments_lexer": "ipython3",
   "version": "3.8.6"
  }
 },
 "nbformat": 4,
 "nbformat_minor": 5
}
