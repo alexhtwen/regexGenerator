{
 "cells": [
  {
   "cell_type": "code",
   "execution_count": 16,
   "id": "3428a033-a24b-40bf-ae38-75d654418425",
   "metadata": {},
   "outputs": [
    {
     "name": "stdout",
     "output_type": "stream",
     "text": [
      "[('alex van: ', 'van', '168'), ('Alex Wen: ', 'Wen', '172')]\n",
      "alex van: 1680\n",
      "Alex Liu: 158\n",
      "Alex Ma: 178\n",
      "Alex Wen: 1720\n",
      "\n"
     ]
    }
   ],
   "source": [
    "# coding=utf8\n",
    "# the above tag defines encoding for this document and is for Python 2.x compatibility\n",
    "\n",
    "import re\n",
    "\n",
    "pattern = r\"((?:Alex )(?=(Van|Wen)).*: )(?P<score>\\d{3})\"\n",
    "repl = r'\\g<1>\\g<2>0'\n",
    "\n",
    "test_str = (\"alex van: 168\\n\"\n",
    "\t\"Alex Liu: 158\\n\"\n",
    "\t\"Alex Ma: 178\\n\"\n",
    "\t\"Alex Wen: 172\\n\")\n",
    "\n",
    "results = re.findall(pattern=pattern, string=test_str, flags=re.MULTILINE | re.IGNORECASE)\n",
    "print(results)\n",
    "new_str = re.sub(repl= repl, pattern=pattern, string=test_str, flags=re.MULTILINE | re.IGNORECASE)\n",
    "print(new_str)"
   ]
  },
  {
   "cell_type": "code",
   "execution_count": null,
   "id": "6c9d6dd3-f500-4d17-8df3-659b7044567c",
   "metadata": {},
   "outputs": [],
   "source": []
  }
 ],
 "metadata": {
  "kernelspec": {
   "display_name": "Python 3",
   "language": "python",
   "name": "python3"
  },
  "language_info": {
   "codemirror_mode": {
    "name": "ipython",
    "version": 3
   },
   "file_extension": ".py",
   "mimetype": "text/x-python",
   "name": "python",
   "nbconvert_exporter": "python",
   "pygments_lexer": "ipython3",
   "version": "3.8.6"
  }
 },
 "nbformat": 4,
 "nbformat_minor": 5
}
